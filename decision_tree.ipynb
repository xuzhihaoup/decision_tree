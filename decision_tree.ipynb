{
 "cells": [
  {
   "cell_type": "code",
   "execution_count": 2,
   "id": "b400753d",
   "metadata": {
    "slideshow": {
     "slide_type": "-"
    }
   },
   "outputs": [],
   "source": [
    "import pandas as pd\n",
    "import numpy as np\n",
    "from sklearn.model_selection import train_test_split\n",
    "from collections import Counter\n",
    "from pprint import pprint\n",
    "from sklearn.preprocessing import LabelEncoder\n",
    "from sklearn.metrics import accuracy_score\n",
    "\n",
    "data = {\n",
    "    '色泽': ['青绿', '乌黑', '乌黑', '青绿', '浅白', '青绿', '乌黑', '乌黑', '乌黑', '青绿', '浅白', '浅白', '青绿', '浅白', '乌黑', '浅白', '青绿'],\n",
    "    '根蒂': ['蜷缩', '蜷缩', '蜷缩', '蜷缩', '蜷缩', '稍蜷', '稍蜷', '蜷缩', '稍蜷', '硬挺', '硬挺', '蜷缩', '稍蜷', '稍蜷', '蜷缩', '蜷缩', '蜷缩'],\n",
    "    '敲声': ['浊响', '沉闷', '浊响', '沉闷', '浊响', '浊响', '浊响', '浊响', '沉闷', '清脆', '清脆', '浊响', '清脆', '沉闷', '浊响', '沉闷', '沉闷'],\n",
    "    '纹理': ['清晰', '清晰', '清晰', '清晰', '清晰', '稍糊', '稍糊', '稍糊', '稍糊', '清晰', '模糊', '模糊', '清晰', '清晰', '清晰', '清晰', '清晰'],\n",
    "    '脐部': ['凹陷', '凹陷', '凹陷', '凹陷', '凹陷', '稍凹', '稍凹', '稍凹', '稍凹', '平坦', '平坦', '平坦', '凹陷', '稍凹', '稍凹', '平坦', '稍凹'],\n",
    "    '触感': ['硬滑', '硬滑', '硬滑', '硬滑', '硬滑', '软粘', '软粘', '硬滑', '硬滑', '软粘', '软粘', '软粘', '硬滑', '软粘', '软粘', '软粘', '硬滑'],\n",
    "    '好瓜': ['是', '是', '是', '是', '是', '是', '是', '否', '否', '否', '否', '否', '否', '否', '否', '否', '否']\n",
    "}"
   ]
  },
  {
   "cell_type": "code",
   "execution_count": 3,
   "id": "e47cf299",
   "metadata": {},
   "outputs": [
    {
     "name": "stdout",
     "output_type": "stream",
     "text": [
      "Index(['色泽', '根蒂', '敲声', '纹理', '脐部', '触感', '好瓜'], dtype='object')\n",
      "    色泽  根蒂  敲声  纹理  脐部  触感 好瓜\n",
      "0   青绿  蜷缩  浊响  清晰  凹陷  硬滑  是\n",
      "1   乌黑  蜷缩  沉闷  清晰  凹陷  硬滑  是\n",
      "2   乌黑  蜷缩  浊响  清晰  凹陷  硬滑  是\n",
      "3   青绿  蜷缩  沉闷  清晰  凹陷  硬滑  是\n",
      "4   浅白  蜷缩  浊响  清晰  凹陷  硬滑  是\n",
      "5   青绿  稍蜷  浊响  稍糊  稍凹  软粘  是\n",
      "6   乌黑  稍蜷  浊响  稍糊  稍凹  软粘  是\n",
      "7   乌黑  蜷缩  浊响  稍糊  稍凹  硬滑  否\n",
      "8   乌黑  稍蜷  沉闷  稍糊  稍凹  硬滑  否\n",
      "9   青绿  硬挺  清脆  清晰  平坦  软粘  否\n",
      "10  浅白  硬挺  清脆  模糊  平坦  软粘  否\n",
      "11  浅白  蜷缩  浊响  模糊  平坦  软粘  否\n",
      "12  青绿  稍蜷  清脆  清晰  凹陷  硬滑  否\n",
      "13  浅白  稍蜷  沉闷  清晰  稍凹  软粘  否\n",
      "14  乌黑  蜷缩  浊响  清晰  稍凹  软粘  否\n",
      "15  浅白  蜷缩  沉闷  清晰  平坦  软粘  否\n",
      "16  青绿  蜷缩  沉闷  清晰  稍凹  硬滑  否\n"
     ]
    }
   ],
   "source": [
    "df = pd.DataFrame(data)\n",
    "le = LabelEncoder()  #将分类标签转换为数值标签\n",
    "print(df.columns)\n",
    "print(df)\n"
   ]
  },
  {
   "cell_type": "code",
   "execution_count": 25,
   "id": "a90bb980",
   "metadata": {
    "tags": []
   },
   "outputs": [
    {
     "name": "stdout",
     "output_type": "stream",
     "text": [
      "    色泽  根蒂  敲声  纹理  脐部  触感  好瓜\n",
      "0    2   2   1   1   0   0   1\n",
      "1    0   2   0   1   0   0   1\n",
      "2    0   2   1   1   0   0   1\n",
      "3    2   2   0   1   0   0   1\n",
      "4    1   2   1   1   0   0   1\n",
      "5    2   1   1   2   2   1   1\n",
      "6    0   1   1   2   2   1   1\n",
      "7    0   2   1   2   2   0   0\n",
      "8    0   1   0   2   2   0   0\n",
      "9    2   0   2   1   1   1   0\n",
      "10   1   0   2   0   1   1   0\n",
      "11   1   2   1   0   1   1   0\n",
      "12   2   1   2   1   0   0   0\n",
      "13   1   1   0   1   2   1   0\n",
      "14   0   2   1   1   2   1   0\n",
      "15   1   2   0   1   1   1   0\n",
      "16   2   2   0   1   2   0   0\n"
     ]
    }
   ],
   "source": [
    "for column in df.columns:   #df.columns   列索引标签\n",
    "    df[column] = le.fit_transform(df[column])#将分类标签转换为数值标签\n",
    "print(df)"
   ]
  },
  {
   "cell_type": "code",
   "execution_count": 5,
   "id": "4265ebc5",
   "metadata": {
    "tags": []
   },
   "outputs": [
    {
     "name": "stdout",
     "output_type": "stream",
     "text": [
      "    色泽  根蒂  敲声  纹理  脐部  触感\n",
      "0    2   2   1   1   0   0\n",
      "1    0   2   0   1   0   0\n",
      "2    0   2   1   1   0   0\n",
      "3    2   2   0   1   0   0\n",
      "4    1   2   1   1   0   0\n",
      "5    2   1   1   2   2   1\n",
      "6    0   1   1   2   2   1\n",
      "7    0   2   1   2   2   0\n",
      "8    0   1   0   2   2   0\n",
      "9    2   0   2   1   1   1\n",
      "10   1   0   2   0   1   1\n",
      "11   1   2   1   0   1   1\n",
      "12   2   1   2   1   0   0\n",
      "13   1   1   0   1   2   1\n",
      "14   0   2   1   1   2   1\n",
      "15   1   2   0   1   1   1\n",
      "16   2   2   0   1   2   0\n",
      "x的列数为6\n",
      "0     1\n",
      "1     1\n",
      "2     1\n",
      "3     1\n",
      "4     1\n",
      "5     1\n",
      "6     1\n",
      "7     0\n",
      "8     0\n",
      "9     0\n",
      "10    0\n",
      "11    0\n",
      "12    0\n",
      "13    0\n",
      "14    0\n",
      "15    0\n",
      "16    0\n",
      "Name: 好瓜, dtype: int32\n"
     ]
    }
   ],
   "source": [
    "X = df.drop('好瓜', axis=1)\n",
    "print(X)\n",
    "print(f\"x的列数为{X.shape[1]}\")\n",
    "y = df['好瓜']\n",
    "print(y)\n",
    "#分离标签和特征"
   ]
  },
  {
   "cell_type": "code",
   "execution_count": 6,
   "id": "a12cc106",
   "metadata": {
    "tags": []
   },
   "outputs": [],
   "source": [
    "X_train, X_test, y_train, y_test = train_test_split(X, y, test_size=0.2, random_state=42)"
   ]
  },
  {
   "cell_type": "code",
   "execution_count": 26,
   "id": "a658b579",
   "metadata": {
    "tags": []
   },
   "outputs": [
    {
     "name": "stdout",
     "output_type": "stream",
     "text": [
      "[[1 2 1 0 1 1]\n",
      " [0 2 1 1 2 1]\n",
      " [0 1 0 2 2 0]\n",
      " [1 1 0 1 2 1]\n",
      " [0 2 1 1 0 0]\n",
      " [2 0 2 1 1 1]\n",
      " [2 2 0 1 2 0]\n",
      " [1 2 1 1 0 0]\n",
      " [0 2 1 2 2 0]\n",
      " [1 0 2 0 1 1]\n",
      " [2 1 2 1 0 0]\n",
      " [2 2 0 1 0 0]\n",
      " [0 1 1 2 2 1]]\n",
      "11    0\n",
      "14    0\n",
      "8     0\n",
      "13    0\n",
      "2     1\n",
      "9     0\n",
      "16    0\n",
      "4     1\n",
      "7     0\n",
      "10    0\n",
      "12    0\n",
      "3     1\n",
      "6     1\n",
      "Name: 好瓜, dtype: int32\n",
      "    色泽  根蒂  敲声  纹理  脐部  触感\n",
      "0    2   2   1   1   0   0\n",
      "1    0   2   0   1   0   0\n",
      "5    2   1   1   2   2   1\n",
      "15   1   2   0   1   1   1\n"
     ]
    }
   ],
   "source": [
    "print(X_train.values)\n",
    "print(y_train)\n",
    "print(X_test)"
   ]
  },
  {
   "attachments": {
    "image.png": {
     "image/png": "[encoded data removed]"
    }
   },
   "cell_type": "markdown",
   "id": "c58b3d2f",
   "metadata": {},
   "source": [
    "# 计算信息熵\n",
    "![image.png](attachment:image.png)"
   ]
  },
  {
   "cell_type": "code",
   "execution_count": 8,
   "id": "6535275c",
   "metadata": {},
   "outputs": [],
   "source": [
    "def entropy(y):\n",
    "    hst = np.bincount(y)#统计类别标签或离散数据的次数\n",
    "    ps = hst / len(y)   #每个标签所占比例\n",
    "    return -np.sum([p * np.log2(p) for p in ps if p > 0])"
   ]
  },
  {
   "attachments": {
    "image.png": {
     "image/png": "[encoded data removed]"
    }
   },
   "cell_type": "markdown",
   "id": "3e166479",
   "metadata": {
    "tags": []
   },
   "source": [
    "# 计算信息增益   \n",
    "![image.png](attachment:image.png)"
   ]
  },
  {
   "cell_type": "code",
   "execution_count": 9,
   "id": "fecec25f",
   "metadata": {},
   "outputs": [],
   "source": [
    "def information_gain(X, y, feature):\n",
    "    original_entropy = entropy(y)\n",
    "    values, counts = np.unique(X[:, feature], return_counts=True)#计算feature列下，每个标签出现的次数\n",
    "    weighted_entropy = np.sum([(counts[i] / np.sum(counts)) * entropy(y[X[:, feature] == values[i]]) for i in range(len(values))])\n",
    "    return original_entropy - weighted_entropy"
   ]
  },
  {
   "cell_type": "markdown",
   "id": "686800ca",
   "metadata": {},
   "source": [
    "# 找到信息增益最大的特征"
   ]
  },
  {
   "cell_type": "code",
   "execution_count": 10,
   "id": "66486f72",
   "metadata": {},
   "outputs": [],
   "source": [
    "def best_feature_to_split(X, y):\n",
    "    information_gains = [information_gain(X, y, feature) for feature in range(X.shape[1])] # X.shape[1]=6\n",
    "    print(information_gains)\n",
    "    return np.argmax(information_gains)"
   ]
  },
  {
   "cell_type": "markdown",
   "id": "34d533cc",
   "metadata": {},
   "source": [
    "# 构建决策树"
   ]
  },
  {
   "cell_type": "code",
   "execution_count": 11,
   "id": "beaf4b4c",
   "metadata": {},
   "outputs": [],
   "source": [
    "def build_tree(X, y, features):\n",
    "    if len(np.unique(y)) == 1:  #unique查找数组中唯一值的函数\n",
    "        #如果 y 中的所有样本都属于同一类（即目标变量只有一个唯一值）\n",
    "        #则返回这个唯一值作为树的叶子节点。这意味着不需要进一步分裂，已经得到了分类结果。\n",
    "        return y[0]\n",
    "    if len(features) == 0:\n",
    "        #如果没有更多的特征可用于分裂，则返回 y 中最常见的标签作为叶子节点。\n",
    "        #这是为了处理特征用尽的情况\n",
    "        return Counter(y).most_common(1)[0][0]   #返回一个包含最常见元素及其计数的列表。 [('0',3)]   \n",
    "    \n",
    "    best_feature = best_feature_to_split(X, y)\n",
    "    tree = {features[best_feature]: {}} #创建树的根节点\n",
    "    #从特征列表中移除已经用作分裂的特征，以避免在后续递归中再次使用。\n",
    "    features = [f for i, f in enumerate(features) if i != best_feature] \n",
    "    \n",
    "    for value in np.unique(X[:, best_feature]):\n",
    "        subtree = build_tree(X[X[:, best_feature] == value], y[X[:, best_feature] == value], features)\n",
    "        tree[list(tree.keys())[0]][value] = subtree\n",
    "    \n",
    "    return tree"
   ]
  },
  {
   "cell_type": "markdown",
   "id": "cba3aee6",
   "metadata": {},
   "source": [
    "# 利用决策树进行预测"
   ]
  },
  {
   "cell_type": "code",
   "execution_count": 12,
   "id": "ff1586f0",
   "metadata": {
    "tags": []
   },
   "outputs": [
    {
     "name": "stdout",
     "output_type": "stream",
     "text": [
      "['色泽', '根蒂', '敲声', '纹理', '脐部', '触感']\n",
      "[[1 2 1 0 1 1]\n",
      " [0 2 1 1 2 1]\n",
      " [0 1 0 2 2 0]\n",
      " [1 1 0 1 2 1]\n",
      " [0 2 1 1 0 0]\n",
      " [2 0 2 1 1 1]\n",
      " [2 2 0 1 2 0]\n",
      " [1 2 1 1 0 0]\n",
      " [0 2 1 2 2 0]\n",
      " [1 0 2 0 1 1]\n",
      " [2 1 2 1 0 0]\n",
      " [2 2 0 1 0 0]\n",
      " [0 1 1 2 2 1]]\n",
      "[0 0 0 0 1 0 0 1 0 0 0 1 1]\n",
      "[0.01780102730053701, 0.11036014405977657, 0.17932914038591197, 0.09123321517616911, 0.34085725347128704, 0.05997383390180788]\n",
      "[0.31127812445913283, 0.8112781244591328, 0.8112781244591328, 0.0, 0.0, 0.0]\n",
      "[0.10917033867559889, 0.19087450462110933, 0.19087450462110933, 0.19087450462110933, 0.0, 0.19087450462110933]\n",
      "[0.2516291673878229, 0.0, 0.9182958340544896, 0.2516291673878229, 0.0, 0.2516291673878229]\n"
     ]
    }
   ],
   "source": [
    "def predict(tree, sample):\n",
    "    if not isinstance(tree, dict):  #判断是叶节点还是内部节点\n",
    "        return tree\n",
    "    feature = list(tree.keys())[0]\n",
    "    subtree = tree[feature].get(sample[feature])\n",
    "    if subtree is None:\n",
    "        return Counter(y_train).most_common(1)[0][0]\n",
    "    return predict(subtree, sample)\n",
    "\n",
    "features = X_train.columns.tolist()\n",
    "print(features)\n",
    "print(X_train.values)\n",
    "print(y_train.values)\n",
    "tree = build_tree(X_train.values, y_train.values, features)"
   ]
  },
  {
   "cell_type": "code",
   "execution_count": 13,
   "id": "b3d2913c",
   "metadata": {
    "tags": []
   },
   "outputs": [
    {
     "name": "stdout",
     "output_type": "stream",
     "text": [
      "决策树结构：\n",
      "{'脐部': {0: {'根蒂': {1: 0, 2: 1}},\n",
      "        1: 0,\n",
      "        2: {'根蒂': {1: {'纹理': {0: 0, 1: 1}}, 2: 0}}}}\n",
      "脐部\n",
      "Accuracy: 0.75\n"
     ]
    }
   ],
   "source": [
    "print(\"决策树结构：\")\n",
    "pprint(tree)\n",
    "print(list(tree.keys())[0])\n",
    "y_pred = [predict(tree, sample) for sample in X_test.to_dict(orient=\"records\")]\n",
    "accuracy = accuracy_score(y_test, y_pred)\n",
    "print(f'Accuracy: {accuracy:.2f}')"
   ]
  },
  {
   "cell_type": "code",
   "execution_count": 14,
   "id": "618518a3-dcb6-4d09-a95e-9f455c68384b",
   "metadata": {},
   "outputs": [
    {
     "data": {
      "text/plain": [
       "[{'色泽': 2, '根蒂': 2, '敲声': 1, '纹理': 1, '脐部': 0, '触感': 0},\n",
       " {'色泽': 0, '根蒂': 2, '敲声': 0, '纹理': 1, '脐部': 0, '触感': 0},\n",
       " {'色泽': 2, '根蒂': 1, '敲声': 1, '纹理': 2, '脐部': 2, '触感': 1},\n",
       " {'色泽': 1, '根蒂': 2, '敲声': 0, '纹理': 1, '脐部': 1, '触感': 1}]"
      ]
     },
     "execution_count": 14,
     "metadata": {},
     "output_type": "execute_result"
    }
   ],
   "source": [
    "sample = X_test.to_dict(orient=\"records\")\n",
    "sample\n"
   ]
  },
  {
   "cell_type": "code",
   "execution_count": 28,
   "id": "22ff5df6-a772-4f20-a01e-213448d03dfa",
   "metadata": {},
   "outputs": [
    {
     "name": "stdout",
     "output_type": "stream",
     "text": [
      "脐部\n"
     ]
    },
    {
     "data": {
      "text/plain": [
       "{'色泽': 2, '根蒂': 2, '敲声': 1, '纹理': 1, '脐部': 0, '触感': 0}"
      ]
     },
     "execution_count": 28,
     "metadata": {},
     "output_type": "execute_result"
    }
   ],
   "source": [
    "feature = list(tree.keys())[0]\n",
    "print(feature)\n",
    "test = sample[0]\n",
    "test"
   ]
  },
  {
   "cell_type": "code",
   "execution_count": 16,
   "id": "0ade9ec1",
   "metadata": {
    "tags": []
   },
   "outputs": [
    {
     "name": "stdout",
     "output_type": "stream",
     "text": [
      "脐部\n",
      "{'根蒂': {1: 0, 2: 1}}\n"
     ]
    }
   ],
   "source": [
    "feature = list(tree.keys())[0]\n",
    "subtree = tree[feature].get(test[feature])\n",
    "print(feature)\n",
    "print(subtree)"
   ]
  },
  {
   "cell_type": "code",
   "execution_count": 17,
   "id": "b83991d7",
   "metadata": {
    "tags": []
   },
   "outputs": [
    {
     "name": "stdout",
     "output_type": "stream",
     "text": [
      "{'脐部': {0: {'根蒂': {1: 0, 2: 1}},\n",
      "        1: 0,\n",
      "        2: {'根蒂': {1: {'纹理': {0: 0, 1: 1}}, 2: 0}}}}\n"
     ]
    }
   ],
   "source": [
    "pprint(tree)"
   ]
  },
  {
   "cell_type": "code",
   "execution_count": 18,
   "id": "93977751-4dd4-4036-aba1-6fc322b04976",
   "metadata": {},
   "outputs": [
    {
     "data": {
      "text/plain": [
       "0"
      ]
     },
     "execution_count": 18,
     "metadata": {},
     "output_type": "execute_result"
    }
   ],
   "source": [
    "Counter(y_train).most_common(1)[0][0]"
   ]
  },
  {
   "cell_type": "code",
   "execution_count": 19,
   "id": "a2f94ccc-a79a-45fa-b0ac-8daf5f61f1e8",
   "metadata": {},
   "outputs": [
    {
     "data": {
      "text/plain": [
       "'根蒂'"
      ]
     },
     "execution_count": 19,
     "metadata": {},
     "output_type": "execute_result"
    }
   ],
   "source": [
    "feature = list(subtree.keys())[0]\n",
    "feature"
   ]
  },
  {
   "cell_type": "code",
   "execution_count": 20,
   "id": "452104d2-e45c-47c7-a17f-b89e9070e364",
   "metadata": {},
   "outputs": [
    {
     "data": {
      "text/plain": [
       "2"
      ]
     },
     "execution_count": 20,
     "metadata": {},
     "output_type": "execute_result"
    }
   ],
   "source": [
    "test[feature]"
   ]
  },
  {
   "cell_type": "code",
   "execution_count": 21,
   "id": "7bfd96e5-add4-4d6c-97b5-7f6672998145",
   "metadata": {},
   "outputs": [
    {
     "data": {
      "text/plain": [
       "1"
      ]
     },
     "execution_count": 21,
     "metadata": {},
     "output_type": "execute_result"
    }
   ],
   "source": [
    "subtrees = subtree[feature].get(test[feature])\n",
    "subtrees"
   ]
  },
  {
   "cell_type": "code",
   "execution_count": null,
   "id": "10eda18d-5bc8-4289-85d5-02ed9d486e36",
   "metadata": {},
   "outputs": [],
   "source": []
  }
 ],
 "metadata": {
  "celltoolbar": "原始单元格格式",
  "kernelspec": {
   "display_name": "Python [conda env:pytorch] *",
   "language": "python",
   "name": "conda-env-pytorch-py"
  },
  "language_info": {
   "codemirror_mode": {
    "name": "ipython",
    "version": 3
   },
   "file_extension": ".py",
   "mimetype": "text/x-python",
   "name": "python",
   "nbconvert_exporter": "python",
   "pygments_lexer": "ipython3",
   "version": "3.6.13"
  }
 },
 "nbformat": 4,
 "nbformat_minor": 5
}
